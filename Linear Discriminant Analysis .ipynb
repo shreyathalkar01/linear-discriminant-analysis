{
 "cells": [
  {
   "cell_type": "markdown",
   "metadata": {},
   "source": [
    "Linear Discriminant Analysis\n"
   ]
  },
  {
   "cell_type": "code",
   "execution_count": 1,
   "metadata": {},
   "outputs": [],
   "source": [
    "import pandas as pd\n",
    "import numpy as np\n",
    "from sklearn.discriminant_analysis import LinearDiscriminantAnalysis\n",
    "from sklearn.metrics import confusion_matrix\n",
    "from sklearn.metrics import classification_report"
   ]
  },
  {
   "cell_type": "code",
   "execution_count": 2,
   "metadata": {},
   "outputs": [
    {
     "data": {
      "text/html": [
       "<div>\n",
       "<style scoped>\n",
       "    .dataframe tbody tr th:only-of-type {\n",
       "        vertical-align: middle;\n",
       "    }\n",
       "\n",
       "    .dataframe tbody tr th {\n",
       "        vertical-align: top;\n",
       "    }\n",
       "\n",
       "    .dataframe thead th {\n",
       "        text-align: right;\n",
       "    }\n",
       "</style>\n",
       "<table border=\"1\" class=\"dataframe\">\n",
       "  <thead>\n",
       "    <tr style=\"text-align: right;\">\n",
       "      <th></th>\n",
       "      <th>age</th>\n",
       "      <th>sex</th>\n",
       "      <th>cp</th>\n",
       "      <th>trestbps</th>\n",
       "      <th>chol</th>\n",
       "      <th>fbs</th>\n",
       "      <th>restecg</th>\n",
       "      <th>thalach</th>\n",
       "      <th>exang</th>\n",
       "      <th>oldpeak</th>\n",
       "      <th>slope</th>\n",
       "      <th>ca</th>\n",
       "      <th>thal</th>\n",
       "      <th>target</th>\n",
       "    </tr>\n",
       "  </thead>\n",
       "  <tbody>\n",
       "    <tr>\n",
       "      <th>0</th>\n",
       "      <td>63</td>\n",
       "      <td>1</td>\n",
       "      <td>3</td>\n",
       "      <td>145</td>\n",
       "      <td>233</td>\n",
       "      <td>1</td>\n",
       "      <td>0</td>\n",
       "      <td>150</td>\n",
       "      <td>0</td>\n",
       "      <td>2.3</td>\n",
       "      <td>0</td>\n",
       "      <td>0</td>\n",
       "      <td>1</td>\n",
       "      <td>1</td>\n",
       "    </tr>\n",
       "    <tr>\n",
       "      <th>1</th>\n",
       "      <td>37</td>\n",
       "      <td>1</td>\n",
       "      <td>2</td>\n",
       "      <td>130</td>\n",
       "      <td>250</td>\n",
       "      <td>0</td>\n",
       "      <td>1</td>\n",
       "      <td>187</td>\n",
       "      <td>0</td>\n",
       "      <td>3.5</td>\n",
       "      <td>0</td>\n",
       "      <td>0</td>\n",
       "      <td>2</td>\n",
       "      <td>1</td>\n",
       "    </tr>\n",
       "    <tr>\n",
       "      <th>2</th>\n",
       "      <td>41</td>\n",
       "      <td>0</td>\n",
       "      <td>1</td>\n",
       "      <td>130</td>\n",
       "      <td>204</td>\n",
       "      <td>0</td>\n",
       "      <td>0</td>\n",
       "      <td>172</td>\n",
       "      <td>0</td>\n",
       "      <td>1.4</td>\n",
       "      <td>2</td>\n",
       "      <td>0</td>\n",
       "      <td>2</td>\n",
       "      <td>1</td>\n",
       "    </tr>\n",
       "    <tr>\n",
       "      <th>3</th>\n",
       "      <td>56</td>\n",
       "      <td>1</td>\n",
       "      <td>1</td>\n",
       "      <td>120</td>\n",
       "      <td>236</td>\n",
       "      <td>0</td>\n",
       "      <td>1</td>\n",
       "      <td>178</td>\n",
       "      <td>0</td>\n",
       "      <td>0.8</td>\n",
       "      <td>2</td>\n",
       "      <td>0</td>\n",
       "      <td>2</td>\n",
       "      <td>1</td>\n",
       "    </tr>\n",
       "    <tr>\n",
       "      <th>4</th>\n",
       "      <td>57</td>\n",
       "      <td>0</td>\n",
       "      <td>0</td>\n",
       "      <td>120</td>\n",
       "      <td>354</td>\n",
       "      <td>0</td>\n",
       "      <td>1</td>\n",
       "      <td>163</td>\n",
       "      <td>1</td>\n",
       "      <td>0.6</td>\n",
       "      <td>2</td>\n",
       "      <td>0</td>\n",
       "      <td>2</td>\n",
       "      <td>1</td>\n",
       "    </tr>\n",
       "  </tbody>\n",
       "</table>\n",
       "</div>"
      ],
      "text/plain": [
       "   age  sex  cp  trestbps  chol  fbs  restecg  thalach  exang  oldpeak  slope  \\\n",
       "0   63    1   3       145   233    1        0      150      0      2.3      0   \n",
       "1   37    1   2       130   250    0        1      187      0      3.5      0   \n",
       "2   41    0   1       130   204    0        0      172      0      1.4      2   \n",
       "3   56    1   1       120   236    0        1      178      0      0.8      2   \n",
       "4   57    0   0       120   354    0        1      163      1      0.6      2   \n",
       "\n",
       "   ca  thal  target  \n",
       "0   0     1       1  \n",
       "1   0     2       1  \n",
       "2   0     2       1  \n",
       "3   0     2       1  \n",
       "4   0     2       1  "
      ]
     },
     "execution_count": 2,
     "metadata": {},
     "output_type": "execute_result"
    }
   ],
   "source": [
    "data = pd.read_csv(r'C:\\Users\\SHREYA\\Documents\\heart.csv')\n",
    "data.head()"
   ]
  },
  {
   "cell_type": "markdown",
   "metadata": {},
   "source": [
    "Attribute Information : \n",
    "1. age\n",
    "2. sex\n",
    "3. chest pain type (4 values)\n",
    "4. resting blood pressure\n",
    "5. serum cholestoral in mg/dl\n",
    "6. fasting blood sugar > 120 mg/dl\n",
    "7. resting electrocardiographic results (values 0,1,2)\n",
    "8. maximum heart rate achieved\n",
    "9. exercise induced angina\n",
    "10. oldpeak = ST depression induced by exercise relative to rest\n",
    "11. the slope of the peak exercise ST segment\n",
    "12. number of major vessels (0-3) colored by flourosopy\n",
    "13. thal: 0 = normal; 1 = fixed defect; 2 = reversable defect\n",
    "14. target: 0= less chance of heart attack 1= more chance of heart attack\n"
   ]
  },
  {
   "cell_type": "code",
   "execution_count": 3,
   "metadata": {},
   "outputs": [],
   "source": [
    "# spilting data in X and y as independent and dependent variable\n",
    "X = data[['age','sex','cp','trestbps','chol','fbs','restecg','thalach','exang','oldpeak','slope','ca','thal']]\n",
    "y = data[['target']]"
   ]
  },
  {
   "cell_type": "code",
   "execution_count": 4,
   "metadata": {},
   "outputs": [
    {
     "name": "stderr",
     "output_type": "stream",
     "text": [
      "C:\\Users\\SHREYA\\anaconda3\\lib\\site-packages\\sklearn\\utils\\validation.py:73: DataConversionWarning: A column-vector y was passed when a 1d array was expected. Please change the shape of y to (n_samples, ), for example using ravel().\n",
      "  return f(**kwargs)\n"
     ]
    }
   ],
   "source": [
    "lda = LinearDiscriminantAnalysis()\n",
    "lda.fit(X, y)\n",
    "yp= lda.predict(X)"
   ]
  },
  {
   "cell_type": "code",
   "execution_count": 5,
   "metadata": {},
   "outputs": [
    {
     "data": {
      "text/plain": [
       "array([ 2.19436212e+00,  1.25692319e+00,  3.60270662e+00,  2.80180710e+00,\n",
       "        1.66586579e+00,  1.43367379e+00,  1.98791370e+00,  2.08113018e+00,\n",
       "        1.91511101e+00,  2.94366182e+00,  8.93910210e-01,  4.45464423e+00,\n",
       "        2.51828265e+00,  1.25156033e+00,  4.88462338e+00,  3.90795425e+00,\n",
       "        5.28587056e+00,  1.97150542e+00,  9.09374039e-01,  3.03710936e+00,\n",
       "       -3.20089805e-01,  2.68713871e+00,  2.05070155e+00,  3.54284244e-01,\n",
       "        2.08314066e+00,  1.59565400e+00,  2.51899133e+00,  2.83481355e+00,\n",
       "        2.81030026e+00,  1.27912382e+00,  4.19521891e+00,  2.32384639e-01,\n",
       "        2.99542941e+00,  4.94081361e-01,  6.25728965e-01,  1.57713147e+00,\n",
       "        5.26494527e+00,  1.14850538e+00,  3.87598667e+00,  3.18759378e+00,\n",
       "        2.36369014e+00,  1.93801963e+00, -1.80352858e+00,  1.51460633e+00,\n",
       "        3.35009060e+00,  2.71026653e+00,  3.51832326e+00,  2.86476438e+00,\n",
       "        5.68555375e+00,  2.74749554e+00,  4.18037839e+00,  5.31587658e-02,\n",
       "       -1.89386289e+00,  5.29033363e+00,  4.84831831e+00,  1.36380826e+00,\n",
       "        2.10579271e+00,  2.10532947e+00,  4.89093076e+00,  1.82273167e+00,\n",
       "        3.42510742e+00,  1.65021270e+00,  5.49025074e+00,  2.32285837e+00,\n",
       "        3.26164229e+00,  3.30180905e+00,  1.21905362e+00,  3.29737050e+00,\n",
       "        3.12042869e+00,  3.48003437e+00,  1.04685855e+00,  9.97173957e-01,\n",
       "        3.49256509e+00,  4.77458830e-01,  4.79896143e+00,  2.35824801e+00,\n",
       "        1.65545292e+00,  1.33843404e+00,  3.47290967e+00,  2.02342348e-01,\n",
       "        4.34633445e+00,  2.30924043e+00,  4.49832529e+00,  2.29452820e+00,\n",
       "        1.42539419e+00,  1.51017983e+00,  9.70541186e-01,  2.29338542e+00,\n",
       "        4.06067912e+00,  1.20414003e+00,  2.45915744e+00, -2.98323099e-01,\n",
       "        3.29342656e-01,  1.70510231e+00,  3.59131222e+00, -2.33481340e+00,\n",
       "        8.66919558e-01, -1.68461334e+00,  1.65569182e+00,  1.05313831e+00,\n",
       "        2.19794568e+00, -1.60596039e+00,  2.91616501e+00,  2.06673911e+00,\n",
       "        3.76145763e+00,  2.36590662e+00,  1.33230070e+00,  6.46364894e-01,\n",
       "        3.89889327e+00,  3.14698276e+00,  7.78783236e-01,  2.04590871e+00,\n",
       "        2.93014323e+00,  1.16937097e+00,  2.38092766e+00,  5.74566695e+00,\n",
       "        1.83303325e+00,  1.80360074e+00,  5.07904043e+00,  7.16622781e-01,\n",
       "       -1.23871189e+00,  1.52230729e+00,  4.13548045e+00,  5.18655102e+00,\n",
       "        6.43437562e+00,  5.08797110e+00,  1.61788589e+00,  4.04532230e+00,\n",
       "        4.29137372e+00,  6.28593145e-01,  3.99910104e+00,  3.47622861e+00,\n",
       "        2.71337787e+00,  2.83598851e+00,  4.24098944e+00,  3.29329507e+00,\n",
       "        3.98688234e+00,  1.87919072e+00, -3.81119862e-01, -3.61201476e+00,\n",
       "        4.38293081e+00,  1.06493019e+00,  5.14872421e+00,  1.35914271e+00,\n",
       "        3.06991435e+00,  1.18423810e+00,  3.48804677e+00,  5.54123263e+00,\n",
       "        4.01343797e+00,  3.52050836e+00, -4.65232357e-05,  1.40402471e+00,\n",
       "        1.28187390e+00,  2.57748587e+00,  4.31293260e+00,  1.69263301e+00,\n",
       "        3.99913197e+00,  3.33112391e+00, -2.88941938e+00,  1.29285807e+00,\n",
       "        1.64352604e+00,  3.43029981e+00,  3.62658240e+00,  6.65856069e-01,\n",
       "        6.65856069e-01, -5.88419650e+00, -5.21925859e+00, -2.18557175e+00,\n",
       "       -2.36266733e+00, -3.81148703e+00,  7.40557547e-01,  3.94165502e-01,\n",
       "        6.38466329e-01, -8.08554483e-01, -5.09654886e+00, -3.10080127e+00,\n",
       "       -2.54836859e+00,  2.95095461e+00, -3.40951613e+00, -2.42317246e+00,\n",
       "       -3.69225908e+00, -3.29698702e+00,  2.76907004e+00, -1.74939070e-01,\n",
       "       -2.79916859e+00,  4.36306659e-01, -2.54085249e+00, -4.77632193e+00,\n",
       "        6.98980511e-01,  8.08414931e-01, -7.77980113e-01, -5.84189124e+00,\n",
       "       -2.38078515e+00, -5.51212109e+00,  8.09496133e-01, -5.37592987e+00,\n",
       "        5.25008276e-01, -1.59763278e+00, -5.24444223e+00,  4.35163284e-01,\n",
       "        1.34394529e+00, -4.30093592e+00, -3.02071263e+00, -1.64937649e+00,\n",
       "       -5.67941711e+00, -1.34972655e+00, -3.18442668e+00, -2.22760663e+00,\n",
       "       -1.78689575e+00, -1.34174929e+00,  2.19289907e-01, -4.23265019e+00,\n",
       "       -7.26899770e-01, -1.31586880e+00, -2.25862360e+00, -2.16076261e+00,\n",
       "        3.74406629e-01, -5.22337801e+00, -3.64358558e+00, -2.73904259e+00,\n",
       "       -4.27910639e+00, -5.91973599e+00,  2.02569217e+00, -6.10716277e+00,\n",
       "       -3.91851763e+00, -4.16317260e+00, -2.43707644e+00, -2.31287651e+00,\n",
       "        1.43238472e+00, -1.12002563e+00,  3.71531875e+00, -4.91057368e+00,\n",
       "       -3.85997827e+00, -4.71289663e+00, -4.73271507e+00, -1.31531117e+00,\n",
       "       -1.27558553e+00, -2.78306030e+00, -2.68517577e+00, -9.84088871e-01,\n",
       "       -3.47039561e+00,  2.03650807e-01, -2.02163944e+00, -4.90754548e+00,\n",
       "       -2.75638153e+00, -4.69261189e-01, -3.40881523e+00, -2.38923594e+00,\n",
       "        6.66044924e-02, -2.68580780e+00, -7.02115589e+00, -5.26204539e+00,\n",
       "       -2.37415512e+00, -3.37638184e+00,  2.53102669e+00, -4.78288480e+00,\n",
       "       -5.54841050e+00, -2.99008504e+00,  1.87030386e-01,  6.06613692e-01,\n",
       "       -2.29959648e+00,  1.14724372e+00, -5.47464008e+00, -6.88588739e-01,\n",
       "       -2.33181239e+00, -1.25571562e+00, -1.99457787e+00, -1.49408298e-01,\n",
       "       -4.96150457e+00, -4.47281431e+00, -3.58342674e-01,  3.81693124e-01,\n",
       "       -1.64723351e+00,  1.55624247e-01, -2.72406417e+00, -1.12585371e+00,\n",
       "       -3.41923207e+00,  9.83766210e-01,  1.70595948e+00, -4.05584182e+00,\n",
       "       -1.21481314e+00,  1.47518059e+00,  1.52606652e+00,  9.61689624e-01,\n",
       "       -3.38622975e+00, -5.06878787e+00,  2.44374670e+00,  1.03518922e+00,\n",
       "       -3.89220051e+00, -1.59128926e+00, -3.93088546e-01, -3.41355461e+00,\n",
       "       -1.89614933e+00,  4.44358832e-01, -1.20293242e+00, -5.05092667e+00,\n",
       "        9.80034719e-01, -2.61647930e+00, -7.84490948e-01,  1.83891115e+00,\n",
       "       -3.85277843e+00, -3.44735958e+00,  2.64232332e+00])"
      ]
     },
     "execution_count": 5,
     "metadata": {},
     "output_type": "execute_result"
    }
   ],
   "source": [
    "lda.decision_function(X)"
   ]
  },
  {
   "cell_type": "code",
   "execution_count": 6,
   "metadata": {},
   "outputs": [
    {
     "name": "stdout",
     "output_type": "stream",
     "text": [
      "[[102  36]\n",
      " [ 12 153]]\n"
     ]
    }
   ],
   "source": [
    "confusion_matrix = confusion_matrix(y, yp)\n",
    "print(confusion_matrix)"
   ]
  },
  {
   "cell_type": "code",
   "execution_count": 7,
   "metadata": {},
   "outputs": [
    {
     "name": "stdout",
     "output_type": "stream",
     "text": [
      "              precision    recall  f1-score   support\n",
      "\n",
      "           0       0.89      0.74      0.81       138\n",
      "           1       0.81      0.93      0.86       165\n",
      "\n",
      "    accuracy                           0.84       303\n",
      "   macro avg       0.85      0.83      0.84       303\n",
      "weighted avg       0.85      0.84      0.84       303\n",
      "\n"
     ]
    }
   ],
   "source": [
    "print(classification_report(y, yp))"
   ]
  },
  {
   "cell_type": "code",
   "execution_count": null,
   "metadata": {},
   "outputs": [],
   "source": []
  }
 ],
 "metadata": {
  "kernelspec": {
   "display_name": "Python 3",
   "language": "python",
   "name": "python3"
  },
  "language_info": {
   "codemirror_mode": {
    "name": "ipython",
    "version": 3
   },
   "file_extension": ".py",
   "mimetype": "text/x-python",
   "name": "python",
   "nbconvert_exporter": "python",
   "pygments_lexer": "ipython3",
   "version": "3.8.3"
  }
 },
 "nbformat": 4,
 "nbformat_minor": 4
}
